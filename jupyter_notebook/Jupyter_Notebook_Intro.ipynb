{
 "cells": [
  {
   "cell_type": "markdown",
   "metadata": {},
   "source": [
    "# Running the Jupyter Notebook\n",
    "\n",
    "To launch the Jupyter Notebook, open a terminal and type\n",
    "\n",
    "```\n",
    "jupyter notebook\n",
    "```\n",
    "\n",
    "A new window (or tab) will be opened in your default browser showing the Notebook Dashboard; this looks like a file manager showing the content \n",
    "of the current directory. In our example we launched the Jupiter Notebook from an empty directory.\n",
    "\n",
    "To open a new Notebook use the `New` button on the top-right corner of the window and select `Python3` (or `Python2`)\n",
    "\n",
    "\n",
    "![shutdown](images/notebook1.png)\n"
   ]
  },
  {
   "cell_type": "markdown",
   "metadata": {},
   "source": [
    "# Shut down the Jupyter Notebook App\n",
    "\n",
    "Closing the browser (or the tab) will not close the Jupyter Notebook App. To completely shut it down you need to close the associated terminal. Go back to the terminal that was used to launch the Notebook and press Control-C twice\n",
    "\n",
    "![shutdown](images/notebook_shutdown.png)\n"
   ]
  },
  {
   "cell_type": "markdown",
   "metadata": {
    "collapsed": true
   },
   "source": [
    "# Using the Python Notebook\n",
    "\n",
    "When you open a new Python Notebook, you have something like this:\n",
    "\n",
    "![t](images/notebook_new.png)\n",
    "\n",
    "Click on `Untitled` at the top of the page to rename the Notebook.\n",
    "The Notebook is automatically saved, but pressing the `Save` icon in the toolbar to manually save the document is always a good idea!\n",
    "\n",
    "In the active cell you can type Python code.\n",
    "To run the cell (execute the code) press `Shift-Enter` or select `Cell - Run cells` from the menubar\n",
    "\n",
    "When you run a cell a new cell is created. You can type new code here"
   ]
  },
  {
   "cell_type": "markdown",
   "metadata": {},
   "source": [
    "## Code and Markdown cells\n",
    "\n",
    "In a Python Notebook you can also insert text. Select the active cell as a `Markdown` cell using\n",
    "the dropdown-menu in the toolbar.\n",
    "When you run this cell it will rendered as a Markdown cell.\n",
    "\n",
    "![md](images/notebook_md.png)\n"
   ]
  },
  {
   "cell_type": "markdown",
   "metadata": {},
   "source": [
    "Text can be formatted using *\n",
    "italic*, **bold**, latex $\\frac{x^2}{x+1}L_\\odot$. You can add links, images, videos.\n",
    "\n",
    "[A guide can be found here](https://guides.github.com/features/mastering-markdown)\n",
    "\n",
    "\n"
   ]
  },
  {
   "cell_type": "markdown",
   "metadata": {
    "collapsed": true
   },
   "source": []
  }
 ],
 "metadata": {
  "kernelspec": {
   "display_name": "Python 3",
   "language": "python",
   "name": "python3"
  },
  "language_info": {
   "codemirror_mode": {
    "name": "ipython",
    "version": 3
   },
   "file_extension": ".py",
   "mimetype": "text/x-python",
   "name": "python",
   "nbconvert_exporter": "python",
   "pygments_lexer": "ipython3",
   "version": "3.6.3"
  }
 },
 "nbformat": 4,
 "nbformat_minor": 2
}
